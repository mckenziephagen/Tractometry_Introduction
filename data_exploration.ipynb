{
 "cells": [
  {
   "cell_type": "markdown",
   "id": "1b8b60f9-e7ea-46e5-8a6e-32ef05d61d7a",
   "metadata": {},
   "source": [
    "To get a sense of your programming experience, we'd like you to work through a few questions, designed to show us how you problem solve while coding. These can be completed in Python or R. While doing things \"correctly\" is important, we are more interested in how you solve these problems. Please leave comments explaining your process. If you use outside sources like StackOverflow or an online textbook, please make note of that. If you use AI tools like ChatGPT, note that and explain what the code does and why. "
   ]
  },
  {
   "cell_type": "markdown",
   "id": "bc811868-681c-4126-8e81-d1d16f05635d",
   "metadata": {},
   "source": [
    "1. First, read in `subjects.csv` from  https://yeatmanlab.github.io/AFQBrowser-demo/data/subjects.csv. "
   ]
  },
  {
   "cell_type": "markdown",
   "id": "72a7b4a8-c156-4165-9fb5-82a7aa69ff8b",
   "metadata": {},
   "source": [
    "2. How many subjects are in this dataset? How many males and how many females?"
   ]
  },
  {
   "cell_type": "markdown",
   "id": "e4fb067b-5ec9-4b3d-ae5c-ed6f839fe04e",
   "metadata": {},
   "source": [
    "3. What is the mean age? What is the median IQ?"
   ]
  },
  {
   "cell_type": "markdown",
   "id": "79671945-6f3a-4207-b2ac-393ece21970b",
   "metadata": {},
   "source": [
    "4. Download the data `brain_data.csv` from https://github.com/mckenziephagen/Tractometry_Introduction/blob/master/brain_data.csv. This is volumetric data from 50 randomly selected brain regions. Please join this dataframe with the previous dataframe so that each subject has both phenotypic data (age, sex, and cognitive score) and brain data. "
   ]
  },
  {
   "cell_type": "markdown",
   "id": "4d321e86-d296-4fa6-8550-5a2ce0e54907",
   "metadata": {},
   "source": [
    "5. Pick a brain region and a phenotype, and create some visualization like a bar chart, histogram, or scatterplot. Explain what you can learn about the data from the plot. Please include labels, titles, and a legend if applicable. "
   ]
  }
 ],
 "metadata": {
  "kernelspec": {
   "display_name": "Python [conda env:cse583]",
   "language": "python",
   "name": "conda-env-cse583-py"
  },
  "language_info": {
   "codemirror_mode": {
    "name": "ipython",
    "version": 3
   },
   "file_extension": ".py",
   "mimetype": "text/x-python",
   "name": "python",
   "nbconvert_exporter": "python",
   "pygments_lexer": "ipython3",
   "version": "3.13.0"
  }
 },
 "nbformat": 4,
 "nbformat_minor": 5
}
